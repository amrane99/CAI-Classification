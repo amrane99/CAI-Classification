{
 "cells": [
  {
   "cell_type": "code",
   "execution_count": 5,
   "id": "norwegian-capital",
   "metadata": {},
   "outputs": [
    {
     "name": "stdout",
     "output_type": "stream",
     "text": [
      "Obtaining file:///home/ec2-user/SageMaker/CAI-Classification (from -r requirements.txt (line 1))\n",
      "Requirement already satisfied: pytest==6.1.1 in /home/ec2-user/anaconda3/envs/pytorch_latest_p36/lib/python3.6/site-packages (from -r requirements.txt (line 2)) (6.1.1)\n",
      "Requirement already satisfied: numpy==1.19.1 in /home/ec2-user/anaconda3/envs/pytorch_latest_p36/lib/python3.6/site-packages (from -r requirements.txt (line 3)) (1.19.1)\n",
      "Requirement already satisfied: scipy==1.5.2 in /home/ec2-user/anaconda3/envs/pytorch_latest_p36/lib/python3.6/site-packages (from -r requirements.txt (line 4)) (1.5.2)\n",
      "Requirement already satisfied: pandas==1.0.3 in /home/ec2-user/anaconda3/envs/pytorch_latest_p36/lib/python3.6/site-packages (from -r requirements.txt (line 5)) (1.0.3)\n",
      "Requirement already satisfied: matplotlib==3.2.1 in /home/ec2-user/anaconda3/envs/pytorch_latest_p36/lib/python3.6/site-packages (from -r requirements.txt (line 6)) (3.2.1)\n",
      "Requirement already satisfied: seaborn==0.10.1 in /home/ec2-user/anaconda3/envs/pytorch_latest_p36/lib/python3.6/site-packages (from -r requirements.txt (line 7)) (0.10.1)\n",
      "Requirement already satisfied: tensorboard==2.2.1 in /home/ec2-user/anaconda3/envs/pytorch_latest_p36/lib/python3.6/site-packages (from -r requirements.txt (line 8)) (2.2.1)\n",
      "Requirement already satisfied: pylint==2.6.0 in /home/ec2-user/anaconda3/envs/pytorch_latest_p36/lib/python3.6/site-packages (from -r requirements.txt (line 9)) (2.6.0)\n",
      "Requirement already satisfied: torch-summary==1.2.0 in /home/ec2-user/anaconda3/envs/pytorch_latest_p36/lib/python3.6/site-packages (from -r requirements.txt (line 10)) (1.2.0)\n",
      "Requirement already satisfied: torchio==0.17.46 in /home/ec2-user/anaconda3/envs/pytorch_latest_p36/lib/python3.6/site-packages (from -r requirements.txt (line 11)) (0.17.46)\n",
      "Requirement already satisfied: python-telegram-bot==12.8 in /home/ec2-user/anaconda3/envs/pytorch_latest_p36/lib/python3.6/site-packages (from -r requirements.txt (line 12)) (12.8)\n",
      "Requirement already satisfied: ez_setup in /home/ec2-user/anaconda3/envs/pytorch_latest_p36/lib/python3.6/site-packages (from -r requirements.txt (line 13)) (0.9)\n",
      "Requirement already satisfied: moviepy in /home/ec2-user/anaconda3/envs/pytorch_latest_p36/lib/python3.6/site-packages (from -r requirements.txt (line 14)) (1.0.3)\n",
      "Requirement already satisfied: av in /home/ec2-user/anaconda3/envs/pytorch_latest_p36/lib/python3.6/site-packages (from -r requirements.txt (line 15)) (8.0.3)\n",
      "Requirement already satisfied: scikit-learn in /home/ec2-user/anaconda3/envs/pytorch_latest_p36/lib/python3.6/site-packages (from -r requirements.txt (line 16)) (0.22.1)\n",
      "Requirement already satisfied: PySimpleGUI in /home/ec2-user/anaconda3/envs/pytorch_latest_p36/lib/python3.6/site-packages (from -r requirements.txt (line 17)) (4.34.0)\n",
      "Requirement already satisfied: pyparsing!=2.0.4,!=2.1.2,!=2.1.6,>=2.0.1 in /home/ec2-user/anaconda3/envs/pytorch_latest_p36/lib/python3.6/site-packages (from matplotlib==3.2.1->-r requirements.txt (line 6)) (2.4.7)\n",
      "Requirement already satisfied: kiwisolver>=1.0.1 in /home/ec2-user/anaconda3/envs/pytorch_latest_p36/lib/python3.6/site-packages (from matplotlib==3.2.1->-r requirements.txt (line 6)) (1.1.0)\n",
      "Requirement already satisfied: python-dateutil>=2.1 in /home/ec2-user/anaconda3/envs/pytorch_latest_p36/lib/python3.6/site-packages (from matplotlib==3.2.1->-r requirements.txt (line 6)) (2.8.1)\n",
      "Requirement already satisfied: cycler>=0.10 in /home/ec2-user/anaconda3/envs/pytorch_latest_p36/lib/python3.6/site-packages (from matplotlib==3.2.1->-r requirements.txt (line 6)) (0.10.0)\n",
      "Requirement already satisfied: pytz>=2017.2 in /home/ec2-user/anaconda3/envs/pytorch_latest_p36/lib/python3.6/site-packages (from pandas==1.0.3->-r requirements.txt (line 5)) (2019.3)\n",
      "Requirement already satisfied: astroid<=2.5,>=2.4.0 in /home/ec2-user/anaconda3/envs/pytorch_latest_p36/lib/python3.6/site-packages (from pylint==2.6.0->-r requirements.txt (line 9)) (2.4.2)\n",
      "Requirement already satisfied: isort<6,>=4.2.5 in /home/ec2-user/anaconda3/envs/pytorch_latest_p36/lib/python3.6/site-packages (from pylint==2.6.0->-r requirements.txt (line 9)) (4.3.21)\n",
      "Requirement already satisfied: mccabe<0.7,>=0.6 in /home/ec2-user/anaconda3/envs/pytorch_latest_p36/lib/python3.6/site-packages (from pylint==2.6.0->-r requirements.txt (line 9)) (0.6.1)\n",
      "Requirement already satisfied: toml>=0.7.1 in /home/ec2-user/anaconda3/envs/pytorch_latest_p36/lib/python3.6/site-packages (from pylint==2.6.0->-r requirements.txt (line 9)) (0.10.2)\n",
      "Requirement already satisfied: py>=1.8.2 in /home/ec2-user/anaconda3/envs/pytorch_latest_p36/lib/python3.6/site-packages (from pytest==6.1.1->-r requirements.txt (line 2)) (1.10.0)\n",
      "Requirement already satisfied: pluggy<1.0,>=0.12 in /home/ec2-user/anaconda3/envs/pytorch_latest_p36/lib/python3.6/site-packages (from pytest==6.1.1->-r requirements.txt (line 2)) (0.13.1)\n",
      "Requirement already satisfied: importlib-metadata>=0.12 in /home/ec2-user/anaconda3/envs/pytorch_latest_p36/lib/python3.6/site-packages (from pytest==6.1.1->-r requirements.txt (line 2)) (3.4.0)\n",
      "Requirement already satisfied: attrs>=17.4.0 in /home/ec2-user/anaconda3/envs/pytorch_latest_p36/lib/python3.6/site-packages (from pytest==6.1.1->-r requirements.txt (line 2)) (20.3.0)\n",
      "Requirement already satisfied: iniconfig in /home/ec2-user/anaconda3/envs/pytorch_latest_p36/lib/python3.6/site-packages (from pytest==6.1.1->-r requirements.txt (line 2)) (1.1.1)\n",
      "Requirement already satisfied: packaging in /home/ec2-user/anaconda3/envs/pytorch_latest_p36/lib/python3.6/site-packages (from pytest==6.1.1->-r requirements.txt (line 2)) (20.8)\n",
      "Requirement already satisfied: decorator>=4.4.0 in /home/ec2-user/anaconda3/envs/pytorch_latest_p36/lib/python3.6/site-packages (from python-telegram-bot==12.8->-r requirements.txt (line 12)) (4.4.1)\n",
      "Requirement already satisfied: certifi in /home/ec2-user/anaconda3/envs/pytorch_latest_p36/lib/python3.6/site-packages (from python-telegram-bot==12.8->-r requirements.txt (line 12)) (2020.12.5)\n",
      "Requirement already satisfied: tornado>=5.1 in /home/ec2-user/anaconda3/envs/pytorch_latest_p36/lib/python3.6/site-packages (from python-telegram-bot==12.8->-r requirements.txt (line 12)) (6.0.3)\n",
      "Requirement already satisfied: cryptography in /home/ec2-user/anaconda3/envs/pytorch_latest_p36/lib/python3.6/site-packages (from python-telegram-bot==12.8->-r requirements.txt (line 12)) (2.8)\n",
      "Requirement already satisfied: google-auth-oauthlib<0.5,>=0.4.1 in /home/ec2-user/anaconda3/envs/pytorch_latest_p36/lib/python3.6/site-packages (from tensorboard==2.2.1->-r requirements.txt (line 8)) (0.4.2)\n",
      "Requirement already satisfied: tensorboard-plugin-wit>=1.6.0 in /home/ec2-user/anaconda3/envs/pytorch_latest_p36/lib/python3.6/site-packages (from tensorboard==2.2.1->-r requirements.txt (line 8)) (1.8.0)\n",
      "Requirement already satisfied: grpcio>=1.24.3 in /home/ec2-user/anaconda3/envs/pytorch_latest_p36/lib/python3.6/site-packages (from tensorboard==2.2.1->-r requirements.txt (line 8)) (1.35.0)\n",
      "Requirement already satisfied: absl-py>=0.4 in /home/ec2-user/anaconda3/envs/pytorch_latest_p36/lib/python3.6/site-packages (from tensorboard==2.2.1->-r requirements.txt (line 8)) (0.11.0)\n",
      "Requirement already satisfied: werkzeug>=0.11.15 in /home/ec2-user/anaconda3/envs/pytorch_latest_p36/lib/python3.6/site-packages (from tensorboard==2.2.1->-r requirements.txt (line 8)) (1.0.0)\n",
      "Requirement already satisfied: six>=1.10.0 in /home/ec2-user/anaconda3/envs/pytorch_latest_p36/lib/python3.6/site-packages (from tensorboard==2.2.1->-r requirements.txt (line 8)) (1.15.0)\n",
      "Requirement already satisfied: wheel>=0.26 in /home/ec2-user/anaconda3/envs/pytorch_latest_p36/lib/python3.6/site-packages (from tensorboard==2.2.1->-r requirements.txt (line 8)) (0.34.2)\n",
      "Requirement already satisfied: requests<3,>=2.21.0 in /home/ec2-user/anaconda3/envs/pytorch_latest_p36/lib/python3.6/site-packages (from tensorboard==2.2.1->-r requirements.txt (line 8)) (2.25.1)\n",
      "Requirement already satisfied: protobuf>=3.6.0 in /home/ec2-user/anaconda3/envs/pytorch_latest_p36/lib/python3.6/site-packages (from tensorboard==2.2.1->-r requirements.txt (line 8)) (3.14.0)\n",
      "Requirement already satisfied: setuptools>=41.0.0 in /home/ec2-user/anaconda3/envs/pytorch_latest_p36/lib/python3.6/site-packages (from tensorboard==2.2.1->-r requirements.txt (line 8)) (45.2.0.post20200210)\n",
      "Requirement already satisfied: markdown>=2.6.8 in /home/ec2-user/anaconda3/envs/pytorch_latest_p36/lib/python3.6/site-packages (from tensorboard==2.2.1->-r requirements.txt (line 8)) (3.3.3)\n",
      "Requirement already satisfied: google-auth<2,>=1.6.3 in /home/ec2-user/anaconda3/envs/pytorch_latest_p36/lib/python3.6/site-packages (from tensorboard==2.2.1->-r requirements.txt (line 8)) (1.26.1)\n",
      "Requirement already satisfied: torch>=1.1 in /home/ec2-user/anaconda3/envs/pytorch_latest_p36/lib/python3.6/site-packages (from torchio==0.17.46->-r requirements.txt (line 11)) (1.7.1)\n",
      "Requirement already satisfied: torchvision in /home/ec2-user/anaconda3/envs/pytorch_latest_p36/lib/python3.6/site-packages (from torchio==0.17.46->-r requirements.txt (line 11)) (0.8.2)\n",
      "Requirement already satisfied: Click in /home/ec2-user/anaconda3/envs/pytorch_latest_p36/lib/python3.6/site-packages (from torchio==0.17.46->-r requirements.txt (line 11)) (7.0)\n",
      "Requirement already satisfied: tqdm in /home/ec2-user/anaconda3/envs/pytorch_latest_p36/lib/python3.6/site-packages (from torchio==0.17.46->-r requirements.txt (line 11)) (4.42.1)\n",
      "Requirement already satisfied: humanize in /home/ec2-user/anaconda3/envs/pytorch_latest_p36/lib/python3.6/site-packages (from torchio==0.17.46->-r requirements.txt (line 11)) (3.2.0)\n",
      "Requirement already satisfied: Python-Deprecated in /home/ec2-user/anaconda3/envs/pytorch_latest_p36/lib/python3.6/site-packages (from torchio==0.17.46->-r requirements.txt (line 11)) (1.1.0)\n",
      "Requirement already satisfied: SimpleITK<2 in /home/ec2-user/anaconda3/envs/pytorch_latest_p36/lib/python3.6/site-packages (from torchio==0.17.46->-r requirements.txt (line 11)) (1.2.4)\n",
      "Requirement already satisfied: nibabel in /home/ec2-user/anaconda3/envs/pytorch_latest_p36/lib/python3.6/site-packages (from torchio==0.17.46->-r requirements.txt (line 11)) (3.2.1)\n",
      "Requirement already satisfied: typed-ast<1.5,>=1.4.0 in /home/ec2-user/anaconda3/envs/pytorch_latest_p36/lib/python3.6/site-packages (from astroid<=2.5,>=2.4.0->pylint==2.6.0->-r requirements.txt (line 9)) (1.4.1)\n",
      "Requirement already satisfied: wrapt~=1.11 in /home/ec2-user/anaconda3/envs/pytorch_latest_p36/lib/python3.6/site-packages (from astroid<=2.5,>=2.4.0->pylint==2.6.0->-r requirements.txt (line 9)) (1.11.2)\n",
      "Requirement already satisfied: lazy-object-proxy==1.4.* in /home/ec2-user/anaconda3/envs/pytorch_latest_p36/lib/python3.6/site-packages (from astroid<=2.5,>=2.4.0->pylint==2.6.0->-r requirements.txt (line 9)) (1.4.3)\n",
      "Requirement already satisfied: rsa<5,>=3.1.4 in /home/ec2-user/anaconda3/envs/pytorch_latest_p36/lib/python3.6/site-packages (from google-auth<2,>=1.6.3->tensorboard==2.2.1->-r requirements.txt (line 8)) (4.5)\n",
      "Requirement already satisfied: pyasn1-modules>=0.2.1 in /home/ec2-user/anaconda3/envs/pytorch_latest_p36/lib/python3.6/site-packages (from google-auth<2,>=1.6.3->tensorboard==2.2.1->-r requirements.txt (line 8)) (0.2.8)\n",
      "Requirement already satisfied: cachetools<5.0,>=2.0.0 in /home/ec2-user/anaconda3/envs/pytorch_latest_p36/lib/python3.6/site-packages (from google-auth<2,>=1.6.3->tensorboard==2.2.1->-r requirements.txt (line 8)) (4.2.1)\n",
      "Requirement already satisfied: requests-oauthlib>=0.7.0 in /home/ec2-user/anaconda3/envs/pytorch_latest_p36/lib/python3.6/site-packages (from google-auth-oauthlib<0.5,>=0.4.1->tensorboard==2.2.1->-r requirements.txt (line 8)) (1.3.0)\n",
      "Requirement already satisfied: zipp>=0.5 in /home/ec2-user/anaconda3/envs/pytorch_latest_p36/lib/python3.6/site-packages (from importlib-metadata>=0.12->pytest==6.1.1->-r requirements.txt (line 2)) (3.4.0)\n",
      "Requirement already satisfied: typing-extensions>=3.6.4 in /home/ec2-user/anaconda3/envs/pytorch_latest_p36/lib/python3.6/site-packages (from importlib-metadata>=0.12->pytest==6.1.1->-r requirements.txt (line 2)) (3.7.4.3)\n",
      "Requirement already satisfied: pyasn1<0.5.0,>=0.4.6 in /home/ec2-user/anaconda3/envs/pytorch_latest_p36/lib/python3.6/site-packages (from pyasn1-modules>=0.2.1->google-auth<2,>=1.6.3->tensorboard==2.2.1->-r requirements.txt (line 8)) (0.4.8)\n",
      "Requirement already satisfied: idna<3,>=2.5 in /home/ec2-user/anaconda3/envs/pytorch_latest_p36/lib/python3.6/site-packages (from requests<3,>=2.21.0->tensorboard==2.2.1->-r requirements.txt (line 8)) (2.10)\n",
      "Requirement already satisfied: urllib3<1.27,>=1.21.1 in /home/ec2-user/anaconda3/envs/pytorch_latest_p36/lib/python3.6/site-packages (from requests<3,>=2.21.0->tensorboard==2.2.1->-r requirements.txt (line 8)) (1.26.2)\n",
      "Requirement already satisfied: chardet<5,>=3.0.2 in /home/ec2-user/anaconda3/envs/pytorch_latest_p36/lib/python3.6/site-packages (from requests<3,>=2.21.0->tensorboard==2.2.1->-r requirements.txt (line 8)) (4.0.0)\n",
      "Requirement already satisfied: oauthlib>=3.0.0 in /home/ec2-user/anaconda3/envs/pytorch_latest_p36/lib/python3.6/site-packages (from requests-oauthlib>=0.7.0->google-auth-oauthlib<0.5,>=0.4.1->tensorboard==2.2.1->-r requirements.txt (line 8)) (3.1.0)\n",
      "Requirement already satisfied: dataclasses in /home/ec2-user/anaconda3/envs/pytorch_latest_p36/lib/python3.6/site-packages (from torch>=1.1->torchio==0.17.46->-r requirements.txt (line 11)) (0.8)\n",
      "Requirement already satisfied: proglog<=1.0.0 in /home/ec2-user/anaconda3/envs/pytorch_latest_p36/lib/python3.6/site-packages (from moviepy->-r requirements.txt (line 14)) (0.1.9)\n",
      "Requirement already satisfied: imageio<3.0,>=2.5 in /home/ec2-user/anaconda3/envs/pytorch_latest_p36/lib/python3.6/site-packages (from moviepy->-r requirements.txt (line 14)) (2.6.1)\n",
      "Requirement already satisfied: imageio-ffmpeg>=0.2.0 in /home/ec2-user/anaconda3/envs/pytorch_latest_p36/lib/python3.6/site-packages (from moviepy->-r requirements.txt (line 14)) (0.4.3)\n",
      "Requirement already satisfied: pillow in /home/ec2-user/anaconda3/envs/pytorch_latest_p36/lib/python3.6/site-packages (from imageio<3.0,>=2.5->moviepy->-r requirements.txt (line 14)) (7.0.0)\n",
      "Requirement already satisfied: joblib>=0.11 in /home/ec2-user/anaconda3/envs/pytorch_latest_p36/lib/python3.6/site-packages (from scikit-learn->-r requirements.txt (line 16)) (0.14.1)\n",
      "Requirement already satisfied: cffi!=1.11.3,>=1.8 in /home/ec2-user/anaconda3/envs/pytorch_latest_p36/lib/python3.6/site-packages (from cryptography->python-telegram-bot==12.8->-r requirements.txt (line 12)) (1.14.0)\n",
      "Requirement already satisfied: pycparser in /home/ec2-user/anaconda3/envs/pytorch_latest_p36/lib/python3.6/site-packages (from cffi!=1.11.3,>=1.8->cryptography->python-telegram-bot==12.8->-r requirements.txt (line 12)) (2.19)\n",
      "Installing collected packages: CAI-Classification-Surgery-Tool-Recognition\n",
      "  Attempting uninstall: CAI-Classification-Surgery-Tool-Recognition\n",
      "    Found existing installation: CAI-Classification-Surgery-Tool-Recognition 1.0\n",
      "    Uninstalling CAI-Classification-Surgery-Tool-Recognition-1.0:\n",
      "      Successfully uninstalled CAI-Classification-Surgery-Tool-Recognition-1.0\n",
      "  Running setup.py develop for CAI-Classification-Surgery-Tool-Recognition\n",
      "Successfully installed CAI-Classification-Surgery-Tool-Recognition\n",
      "\u001b[33mWARNING: You are using pip version 20.3.3; however, version 21.0.1 is available.\n",
      "You should consider upgrading via the '/home/ec2-user/anaconda3/envs/pytorch_latest_p36/bin/python -m pip install --upgrade pip' command.\u001b[0m\n"
     ]
    }
   ],
   "source": [
    "!pip3 install -r requirements.txt"
   ]
  },
  {
   "cell_type": "code",
   "execution_count": 7,
   "id": "sufficient-bench",
   "metadata": {},
   "outputs": [
    {
     "name": "stdout",
     "output_type": "stream",
     "text": [
      "Traceback (most recent call last):\n",
      "  File \"SurgeryToolRecognition.py\", line 6, in <module>\n",
      "    from cai.utils.update_bots.telegram_bot import TelegramBot\n",
      "  File \"/home/ec2-user/SageMaker/CAI-Classification/cai/utils/update_bots/telegram_bot.py\", line 10, in <module>\n",
      "    import telegram as tel\n",
      "ModuleNotFoundError: No module named 'telegram'\n"
     ]
    }
   ],
   "source": [
    "!python3.7 SurgeryToolRecognition.py --model ResNet50 --mode train --device 0 --optimizer Adam --weight_decay 0.00005 --learning_rate 0.001 --batch_size 124 --epochs 20"
   ]
  },
  {
   "cell_type": "code",
   "execution_count": null,
   "id": "solved-escape",
   "metadata": {},
   "outputs": [],
   "source": []
  }
 ],
 "metadata": {
  "kernelspec": {
   "display_name": "conda_pytorch_latest_p36",
   "language": "python",
   "name": "conda_pytorch_latest_p36"
  },
  "language_info": {
   "codemirror_mode": {
    "name": "ipython",
    "version": 3
   },
   "file_extension": ".py",
   "mimetype": "text/x-python",
   "name": "python",
   "nbconvert_exporter": "python",
   "pygments_lexer": "ipython3",
   "version": "3.6.10"
  }
 },
 "nbformat": 4,
 "nbformat_minor": 5
}
